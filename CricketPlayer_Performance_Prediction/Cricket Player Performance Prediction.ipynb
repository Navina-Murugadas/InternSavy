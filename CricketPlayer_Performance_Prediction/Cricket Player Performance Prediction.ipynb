{
 "cells": [
  {
   "cell_type": "markdown",
   "id": "590759f1",
   "metadata": {},
   "source": [
    "# CRICKET PLAYER PERFORMANCE PREDICTION"
   ]
  },
  {
   "cell_type": "code",
   "execution_count": 1,
   "id": "17383c63",
   "metadata": {},
   "outputs": [],
   "source": [
    "# Importing dependencies:\n",
    "import numpy as np\n",
    "import pandas as pd\n",
    "import seaborn as sns\n",
    "import matplotlib.pyplot as plt\n",
    "\n",
    "import kaggle\n",
    "import zipfile36 as zipfile\n",
    "\n",
    "import warnings\n",
    "warnings.filterwarnings('ignore')"
   ]
  },
  {
   "cell_type": "code",
   "execution_count": 2,
   "id": "1039d37a",
   "metadata": {},
   "outputs": [
    {
     "name": "stdout",
     "output_type": "stream",
     "text": [
      "Downloading cricket-world-cup-2019-players-data.zip to C:\\Users\\DELL\\Documents\\DataScience_Analyst_Projects\\CricketPlayer_Performance_Prediction\n",
      "\n"
     ]
    },
    {
     "name": "stderr",
     "output_type": "stream",
     "text": [
      "\n",
      "  0%|          | 0.00/395k [00:00<?, ?B/s]\n",
      "100%|##########| 395k/395k [00:07<00:00, 51.4kB/s]\n",
      "100%|##########| 395k/395k [00:07<00:00, 51.4kB/s]\n"
     ]
    }
   ],
   "source": [
    "!kaggle datasets download -d saivamshi/cricket-world-cup-2019-players-data"
   ]
  },
  {
   "cell_type": "code",
   "execution_count": 3,
   "id": "85b7f50f",
   "metadata": {},
   "outputs": [],
   "source": [
    "zipfile_name = 'cricket-world-cup-2019-players-data.zip'\n",
    "with zipfile.ZipFile(zipfile_name, 'r') as file:\n",
    "    file.extractall()"
   ]
  },
  {
   "cell_type": "code",
   "execution_count": 4,
   "id": "df15932d",
   "metadata": {},
   "outputs": [],
   "source": [
    "df = pd.read_csv('Batsman_Data.csv')"
   ]
  },
  {
   "cell_type": "code",
   "execution_count": 5,
   "id": "b2e252dd",
   "metadata": {},
   "outputs": [
    {
     "data": {
      "text/html": [
       "<div>\n",
       "<style scoped>\n",
       "    .dataframe tbody tr th:only-of-type {\n",
       "        vertical-align: middle;\n",
       "    }\n",
       "\n",
       "    .dataframe tbody tr th {\n",
       "        vertical-align: top;\n",
       "    }\n",
       "\n",
       "    .dataframe thead th {\n",
       "        text-align: right;\n",
       "    }\n",
       "</style>\n",
       "<table border=\"1\" class=\"dataframe\">\n",
       "  <thead>\n",
       "    <tr style=\"text-align: right;\">\n",
       "      <th></th>\n",
       "      <th>Unnamed: 0</th>\n",
       "      <th>Bat1</th>\n",
       "      <th>Runs</th>\n",
       "      <th>BF</th>\n",
       "      <th>SR</th>\n",
       "      <th>4s</th>\n",
       "      <th>6s</th>\n",
       "      <th>Opposition</th>\n",
       "      <th>Ground</th>\n",
       "      <th>Start Date</th>\n",
       "      <th>Match_ID</th>\n",
       "      <th>Batsman</th>\n",
       "      <th>Player_ID</th>\n",
       "    </tr>\n",
       "  </thead>\n",
       "  <tbody>\n",
       "    <tr>\n",
       "      <th>0</th>\n",
       "      <td>1</td>\n",
       "      <td>DNB</td>\n",
       "      <td>-</td>\n",
       "      <td>-</td>\n",
       "      <td>-</td>\n",
       "      <td>-</td>\n",
       "      <td>-</td>\n",
       "      <td>v India</td>\n",
       "      <td>Nagpur</td>\n",
       "      <td>18 Dec 2009</td>\n",
       "      <td>ODI # 2933</td>\n",
       "      <td>Oshane Thomas</td>\n",
       "      <td>49619</td>\n",
       "    </tr>\n",
       "    <tr>\n",
       "      <th>1</th>\n",
       "      <td>2</td>\n",
       "      <td>DNB</td>\n",
       "      <td>-</td>\n",
       "      <td>-</td>\n",
       "      <td>-</td>\n",
       "      <td>-</td>\n",
       "      <td>-</td>\n",
       "      <td>v India</td>\n",
       "      <td>Kolkata</td>\n",
       "      <td>24 Dec 2009</td>\n",
       "      <td>ODI # 2935</td>\n",
       "      <td>Oshane Thomas</td>\n",
       "      <td>49619</td>\n",
       "    </tr>\n",
       "    <tr>\n",
       "      <th>2</th>\n",
       "      <td>3</td>\n",
       "      <td>DNB</td>\n",
       "      <td>-</td>\n",
       "      <td>-</td>\n",
       "      <td>-</td>\n",
       "      <td>-</td>\n",
       "      <td>-</td>\n",
       "      <td>v India</td>\n",
       "      <td>Delhi</td>\n",
       "      <td>27 Dec 2009</td>\n",
       "      <td>ODI # 2936</td>\n",
       "      <td>Oshane Thomas</td>\n",
       "      <td>49619</td>\n",
       "    </tr>\n",
       "    <tr>\n",
       "      <th>3</th>\n",
       "      <td>4</td>\n",
       "      <td>DNB</td>\n",
       "      <td>-</td>\n",
       "      <td>-</td>\n",
       "      <td>-</td>\n",
       "      <td>-</td>\n",
       "      <td>-</td>\n",
       "      <td>v Bangladesh</td>\n",
       "      <td>Dhaka</td>\n",
       "      <td>4 Jan 2010</td>\n",
       "      <td>ODI # 2937</td>\n",
       "      <td>Oshane Thomas</td>\n",
       "      <td>49619</td>\n",
       "    </tr>\n",
       "    <tr>\n",
       "      <th>4</th>\n",
       "      <td>5</td>\n",
       "      <td>DNB</td>\n",
       "      <td>-</td>\n",
       "      <td>-</td>\n",
       "      <td>-</td>\n",
       "      <td>-</td>\n",
       "      <td>-</td>\n",
       "      <td>v India</td>\n",
       "      <td>Dhaka</td>\n",
       "      <td>5 Jan 2010</td>\n",
       "      <td>ODI # 2938</td>\n",
       "      <td>Oshane Thomas</td>\n",
       "      <td>49619</td>\n",
       "    </tr>\n",
       "  </tbody>\n",
       "</table>\n",
       "</div>"
      ],
      "text/plain": [
       "   Unnamed: 0 Bat1 Runs BF SR 4s 6s    Opposition   Ground   Start Date  \\\n",
       "0           1  DNB    -  -  -  -  -       v India   Nagpur  18 Dec 2009   \n",
       "1           2  DNB    -  -  -  -  -       v India  Kolkata  24 Dec 2009   \n",
       "2           3  DNB    -  -  -  -  -       v India    Delhi  27 Dec 2009   \n",
       "3           4  DNB    -  -  -  -  -  v Bangladesh    Dhaka   4 Jan 2010   \n",
       "4           5  DNB    -  -  -  -  -       v India    Dhaka   5 Jan 2010   \n",
       "\n",
       "     Match_ID        Batsman  Player_ID  \n",
       "0  ODI # 2933  Oshane Thomas      49619  \n",
       "1  ODI # 2935  Oshane Thomas      49619  \n",
       "2  ODI # 2936  Oshane Thomas      49619  \n",
       "3  ODI # 2937  Oshane Thomas      49619  \n",
       "4  ODI # 2938  Oshane Thomas      49619  "
      ]
     },
     "execution_count": 5,
     "metadata": {},
     "output_type": "execute_result"
    }
   ],
   "source": [
    "df.head()"
   ]
  },
  {
   "cell_type": "code",
   "execution_count": 6,
   "id": "d9198591",
   "metadata": {},
   "outputs": [
    {
     "data": {
      "text/html": [
       "<div>\n",
       "<style scoped>\n",
       "    .dataframe tbody tr th:only-of-type {\n",
       "        vertical-align: middle;\n",
       "    }\n",
       "\n",
       "    .dataframe tbody tr th {\n",
       "        vertical-align: top;\n",
       "    }\n",
       "\n",
       "    .dataframe thead th {\n",
       "        text-align: right;\n",
       "    }\n",
       "</style>\n",
       "<table border=\"1\" class=\"dataframe\">\n",
       "  <thead>\n",
       "    <tr style=\"text-align: right;\">\n",
       "      <th></th>\n",
       "      <th>Unnamed: 0</th>\n",
       "      <th>Bat1</th>\n",
       "      <th>Runs</th>\n",
       "      <th>BF</th>\n",
       "      <th>SR</th>\n",
       "      <th>4s</th>\n",
       "      <th>6s</th>\n",
       "      <th>Opposition</th>\n",
       "      <th>Ground</th>\n",
       "      <th>Start Date</th>\n",
       "      <th>Match_ID</th>\n",
       "      <th>Batsman</th>\n",
       "      <th>Player_ID</th>\n",
       "    </tr>\n",
       "  </thead>\n",
       "  <tbody>\n",
       "    <tr>\n",
       "      <th>11144</th>\n",
       "      <td>11145</td>\n",
       "      <td>46</td>\n",
       "      <td>46</td>\n",
       "      <td>61</td>\n",
       "      <td>75.40</td>\n",
       "      <td>6</td>\n",
       "      <td>1</td>\n",
       "      <td>v Ireland</td>\n",
       "      <td>Dehradun</td>\n",
       "      <td>28 Feb 2019</td>\n",
       "      <td>ODI # 4100</td>\n",
       "      <td>Gulbadin Naib</td>\n",
       "      <td>352048</td>\n",
       "    </tr>\n",
       "    <tr>\n",
       "      <th>11145</th>\n",
       "      <td>11146</td>\n",
       "      <td>3</td>\n",
       "      <td>3</td>\n",
       "      <td>6</td>\n",
       "      <td>50.00</td>\n",
       "      <td>0</td>\n",
       "      <td>0</td>\n",
       "      <td>v Ireland</td>\n",
       "      <td>Dehradun</td>\n",
       "      <td>2 Mar 2019</td>\n",
       "      <td>ODI # 4101</td>\n",
       "      <td>Gulbadin Naib</td>\n",
       "      <td>352048</td>\n",
       "    </tr>\n",
       "    <tr>\n",
       "      <th>11146</th>\n",
       "      <td>11147</td>\n",
       "      <td>1</td>\n",
       "      <td>1</td>\n",
       "      <td>8</td>\n",
       "      <td>12.50</td>\n",
       "      <td>0</td>\n",
       "      <td>0</td>\n",
       "      <td>v Ireland</td>\n",
       "      <td>Dehradun</td>\n",
       "      <td>8 Mar 2019</td>\n",
       "      <td>ODI # 4108</td>\n",
       "      <td>Gulbadin Naib</td>\n",
       "      <td>352048</td>\n",
       "    </tr>\n",
       "    <tr>\n",
       "      <th>11147</th>\n",
       "      <td>11148</td>\n",
       "      <td>DNB</td>\n",
       "      <td>-</td>\n",
       "      <td>-</td>\n",
       "      <td>-</td>\n",
       "      <td>-</td>\n",
       "      <td>-</td>\n",
       "      <td>v Scotland</td>\n",
       "      <td>Edinburgh</td>\n",
       "      <td>10 May 2019</td>\n",
       "      <td>ODI # 4131</td>\n",
       "      <td>Gulbadin Naib</td>\n",
       "      <td>352048</td>\n",
       "    </tr>\n",
       "    <tr>\n",
       "      <th>11148</th>\n",
       "      <td>11149</td>\n",
       "      <td>TDNB</td>\n",
       "      <td>-</td>\n",
       "      <td>-</td>\n",
       "      <td>-</td>\n",
       "      <td>-</td>\n",
       "      <td>-</td>\n",
       "      <td>v Ireland</td>\n",
       "      <td>Belfast</td>\n",
       "      <td>19 May 2019</td>\n",
       "      <td>ODI # 4139</td>\n",
       "      <td>Gulbadin Naib</td>\n",
       "      <td>352048</td>\n",
       "    </tr>\n",
       "  </tbody>\n",
       "</table>\n",
       "</div>"
      ],
      "text/plain": [
       "       Unnamed: 0  Bat1 Runs  BF     SR 4s 6s  Opposition     Ground  \\\n",
       "11144       11145    46   46  61  75.40  6  1   v Ireland   Dehradun   \n",
       "11145       11146     3    3   6  50.00  0  0   v Ireland   Dehradun   \n",
       "11146       11147     1    1   8  12.50  0  0   v Ireland   Dehradun   \n",
       "11147       11148   DNB    -   -      -  -  -  v Scotland  Edinburgh   \n",
       "11148       11149  TDNB    -   -      -  -  -   v Ireland    Belfast   \n",
       "\n",
       "        Start Date    Match_ID         Batsman  Player_ID  \n",
       "11144  28 Feb 2019  ODI # 4100  Gulbadin Naib      352048  \n",
       "11145   2 Mar 2019  ODI # 4101  Gulbadin Naib      352048  \n",
       "11146   8 Mar 2019  ODI # 4108  Gulbadin Naib      352048  \n",
       "11147  10 May 2019  ODI # 4131  Gulbadin Naib      352048  \n",
       "11148  19 May 2019  ODI # 4139  Gulbadin Naib      352048  "
      ]
     },
     "execution_count": 6,
     "metadata": {},
     "output_type": "execute_result"
    }
   ],
   "source": [
    "df.tail()"
   ]
  },
  {
   "cell_type": "code",
   "execution_count": 7,
   "id": "0bf9c90c",
   "metadata": {},
   "outputs": [
    {
     "data": {
      "text/plain": [
       "(11149, 13)"
      ]
     },
     "execution_count": 7,
     "metadata": {},
     "output_type": "execute_result"
    }
   ],
   "source": [
    "df.shape"
   ]
  },
  {
   "cell_type": "code",
   "execution_count": 8,
   "id": "958c4995",
   "metadata": {},
   "outputs": [
    {
     "name": "stdout",
     "output_type": "stream",
     "text": [
      "<class 'pandas.core.frame.DataFrame'>\n",
      "RangeIndex: 11149 entries, 0 to 11148\n",
      "Data columns (total 13 columns):\n",
      " #   Column      Non-Null Count  Dtype \n",
      "---  ------      --------------  ----- \n",
      " 0   Unnamed: 0  11149 non-null  int64 \n",
      " 1   Bat1        11149 non-null  object\n",
      " 2   Runs        11149 non-null  object\n",
      " 3   BF          11149 non-null  object\n",
      " 4   SR          11149 non-null  object\n",
      " 5   4s          11149 non-null  object\n",
      " 6   6s          11149 non-null  object\n",
      " 7   Opposition  11149 non-null  object\n",
      " 8   Ground      11149 non-null  object\n",
      " 9   Start Date  11149 non-null  object\n",
      " 10  Match_ID    11149 non-null  object\n",
      " 11  Batsman     11149 non-null  object\n",
      " 12  Player_ID   11149 non-null  int64 \n",
      "dtypes: int64(2), object(11)\n",
      "memory usage: 1.1+ MB\n"
     ]
    }
   ],
   "source": [
    "df.info()"
   ]
  },
  {
   "cell_type": "code",
   "execution_count": 9,
   "id": "b8133174",
   "metadata": {},
   "outputs": [
    {
     "data": {
      "text/html": [
       "<div>\n",
       "<style scoped>\n",
       "    .dataframe tbody tr th:only-of-type {\n",
       "        vertical-align: middle;\n",
       "    }\n",
       "\n",
       "    .dataframe tbody tr th {\n",
       "        vertical-align: top;\n",
       "    }\n",
       "\n",
       "    .dataframe thead th {\n",
       "        text-align: right;\n",
       "    }\n",
       "</style>\n",
       "<table border=\"1\" class=\"dataframe\">\n",
       "  <thead>\n",
       "    <tr style=\"text-align: right;\">\n",
       "      <th></th>\n",
       "      <th>Unnamed: 0</th>\n",
       "      <th>Player_ID</th>\n",
       "    </tr>\n",
       "  </thead>\n",
       "  <tbody>\n",
       "    <tr>\n",
       "      <th>count</th>\n",
       "      <td>11149.00000</td>\n",
       "      <td>1.114900e+04</td>\n",
       "    </tr>\n",
       "    <tr>\n",
       "      <th>mean</th>\n",
       "      <td>5575.00000</td>\n",
       "      <td>2.259088e+05</td>\n",
       "    </tr>\n",
       "    <tr>\n",
       "      <th>std</th>\n",
       "      <td>3218.58341</td>\n",
       "      <td>1.942613e+05</td>\n",
       "    </tr>\n",
       "    <tr>\n",
       "      <th>min</th>\n",
       "      <td>1.00000</td>\n",
       "      <td>5.334000e+03</td>\n",
       "    </tr>\n",
       "    <tr>\n",
       "      <th>25%</th>\n",
       "      <td>2788.00000</td>\n",
       "      <td>4.749200e+04</td>\n",
       "    </tr>\n",
       "    <tr>\n",
       "      <th>50%</th>\n",
       "      <td>5575.00000</td>\n",
       "      <td>2.335140e+05</td>\n",
       "    </tr>\n",
       "    <tr>\n",
       "      <th>75%</th>\n",
       "      <td>8362.00000</td>\n",
       "      <td>3.217770e+05</td>\n",
       "    </tr>\n",
       "    <tr>\n",
       "      <th>max</th>\n",
       "      <td>11149.00000</td>\n",
       "      <td>1.158100e+06</td>\n",
       "    </tr>\n",
       "  </tbody>\n",
       "</table>\n",
       "</div>"
      ],
      "text/plain": [
       "        Unnamed: 0     Player_ID\n",
       "count  11149.00000  1.114900e+04\n",
       "mean    5575.00000  2.259088e+05\n",
       "std     3218.58341  1.942613e+05\n",
       "min        1.00000  5.334000e+03\n",
       "25%     2788.00000  4.749200e+04\n",
       "50%     5575.00000  2.335140e+05\n",
       "75%     8362.00000  3.217770e+05\n",
       "max    11149.00000  1.158100e+06"
      ]
     },
     "execution_count": 9,
     "metadata": {},
     "output_type": "execute_result"
    }
   ],
   "source": [
    "df.describe()"
   ]
  },
  {
   "cell_type": "code",
   "execution_count": 10,
   "id": "5c9a9edf",
   "metadata": {},
   "outputs": [
    {
     "data": {
      "text/plain": [
       "Unnamed: 0    0\n",
       "Bat1          0\n",
       "Runs          0\n",
       "BF            0\n",
       "SR            0\n",
       "4s            0\n",
       "6s            0\n",
       "Opposition    0\n",
       "Ground        0\n",
       "Start Date    0\n",
       "Match_ID      0\n",
       "Batsman       0\n",
       "Player_ID     0\n",
       "dtype: int64"
      ]
     },
     "execution_count": 10,
     "metadata": {},
     "output_type": "execute_result"
    }
   ],
   "source": [
    "df.isnull().sum()"
   ]
  },
  {
   "cell_type": "code",
   "execution_count": 11,
   "id": "5b54ef72",
   "metadata": {},
   "outputs": [
    {
     "data": {
      "text/plain": [
       "134"
      ]
     },
     "execution_count": 11,
     "metadata": {},
     "output_type": "execute_result"
    }
   ],
   "source": [
    "df['Ground'].nunique()"
   ]
  },
  {
   "cell_type": "code",
   "execution_count": 12,
   "id": "070698ac",
   "metadata": {},
   "outputs": [
    {
     "data": {
      "text/plain": [
       "Ground\n",
       "Dhaka               839\n",
       "Harare              372\n",
       "Sharjah             354\n",
       "Abu Dhabi           319\n",
       "Colombo (RPS)       317\n",
       "                   ... \n",
       "Vijayawada            1\n",
       "Hyderabad (Sind)      1\n",
       "Tangier               1\n",
       "Georgetown            1\n",
       "Jodhpur               1\n",
       "Name: count, Length: 134, dtype: int64"
      ]
     },
     "execution_count": 12,
     "metadata": {},
     "output_type": "execute_result"
    }
   ],
   "source": [
    "df['Ground'].value_counts()"
   ]
  },
  {
   "cell_type": "code",
   "execution_count": 13,
   "id": "b4a63857",
   "metadata": {},
   "outputs": [
    {
     "data": {
      "text/plain": [
       "149"
      ]
     },
     "execution_count": 13,
     "metadata": {},
     "output_type": "execute_result"
    }
   ],
   "source": [
    "df['Batsman'].nunique()"
   ]
  },
  {
   "cell_type": "code",
   "execution_count": 14,
   "id": "76029c07",
   "metadata": {},
   "outputs": [
    {
     "data": {
      "text/plain": [
       "Batsman\n",
       "MS Dhoni            341\n",
       "Chris Gayle         289\n",
       "Shoaib Malik        284\n",
       "Virat Kohli         227\n",
       "Eoin Morgan         222\n",
       "                   ... \n",
       "Mohammad Hasnain      5\n",
       "Anrich Nortje         4\n",
       "Abid Ali              3\n",
       "Abu Jayed             2\n",
       "Nicholas Pooran       1\n",
       "Name: count, Length: 149, dtype: int64"
      ]
     },
     "execution_count": 14,
     "metadata": {},
     "output_type": "execute_result"
    }
   ],
   "source": [
    "df['Batsman'].value_counts()"
   ]
  },
  {
   "cell_type": "code",
   "execution_count": 15,
   "id": "10bee37a",
   "metadata": {},
   "outputs": [
    {
     "data": {
      "text/plain": [
       "22"
      ]
     },
     "execution_count": 15,
     "metadata": {},
     "output_type": "execute_result"
    }
   ],
   "source": [
    "df['Opposition'].nunique()"
   ]
  },
  {
   "cell_type": "code",
   "execution_count": 16,
   "id": "45a63d03",
   "metadata": {},
   "outputs": [
    {
     "data": {
      "text/plain": [
       "array(['v India', 'v Bangladesh', 'v England', 'v Australia',\n",
       "       'v Pakistan', 'v South Africa', 'v Afghanistan', 'v Ireland',\n",
       "       'v New Zealand', 'v West Indies', 'v Zimbabwe', 'v U.A.E.',\n",
       "       'v Sri Lanka', 'v Bermuda', 'v Canada', 'v Netherlands',\n",
       "       'v Scotland', 'v P.N.G.', 'v Kenya', 'v Asia XI', 'v Hong Kong',\n",
       "       'v Africa XI'], dtype=object)"
      ]
     },
     "execution_count": 16,
     "metadata": {},
     "output_type": "execute_result"
    }
   ],
   "source": [
    "df['Opposition'].unique()"
   ]
  },
  {
   "cell_type": "code",
   "execution_count": 17,
   "id": "117d5412",
   "metadata": {},
   "outputs": [
    {
     "data": {
      "text/plain": [
       "Opposition\n",
       "v Sri Lanka       1283\n",
       "v India           1187\n",
       "v Australia       1169\n",
       "v England         1077\n",
       "v Pakistan        1072\n",
       "v New Zealand      992\n",
       "v West Indies      918\n",
       "v South Africa     888\n",
       "v Zimbabwe         860\n",
       "v Bangladesh       639\n",
       "v Ireland          450\n",
       "v Scotland         169\n",
       "v Afghanistan      139\n",
       "v Kenya             67\n",
       "v U.A.E.            65\n",
       "v Netherlands       63\n",
       "v Canada            52\n",
       "v Hong Kong         34\n",
       "v Bermuda           11\n",
       "v P.N.G.             6\n",
       "v Africa XI          5\n",
       "v Asia XI            3\n",
       "Name: count, dtype: int64"
      ]
     },
     "execution_count": 17,
     "metadata": {},
     "output_type": "execute_result"
    }
   ],
   "source": [
    "df['Opposition'].value_counts()"
   ]
  },
  {
   "cell_type": "code",
   "execution_count": 18,
   "id": "dc083dd2",
   "metadata": {},
   "outputs": [],
   "source": [
    "df.drop(df[df['Bat1'] == 'DNB'].index, inplace=True)\n",
    "df.drop(df[df['Bat1'] == 'TDNB'].index, inplace=True)\n",
    "df.drop(df[df['Bat1'] == 'absent'].index, inplace=True)\n",
    "df.drop(df[df['Bat1'] == 'sub'].index, inplace=True)"
   ]
  },
  {
   "cell_type": "code",
   "execution_count": 19,
   "id": "1686699e",
   "metadata": {},
   "outputs": [
    {
     "data": {
      "text/html": [
       "<div>\n",
       "<style scoped>\n",
       "    .dataframe tbody tr th:only-of-type {\n",
       "        vertical-align: middle;\n",
       "    }\n",
       "\n",
       "    .dataframe tbody tr th {\n",
       "        vertical-align: top;\n",
       "    }\n",
       "\n",
       "    .dataframe thead th {\n",
       "        text-align: right;\n",
       "    }\n",
       "</style>\n",
       "<table border=\"1\" class=\"dataframe\">\n",
       "  <thead>\n",
       "    <tr style=\"text-align: right;\">\n",
       "      <th></th>\n",
       "      <th>Unnamed: 0</th>\n",
       "      <th>Bat1</th>\n",
       "      <th>Runs</th>\n",
       "      <th>BF</th>\n",
       "      <th>SR</th>\n",
       "      <th>4s</th>\n",
       "      <th>6s</th>\n",
       "      <th>Opposition</th>\n",
       "      <th>Ground</th>\n",
       "      <th>Start Date</th>\n",
       "      <th>Match_ID</th>\n",
       "      <th>Batsman</th>\n",
       "      <th>Player_ID</th>\n",
       "    </tr>\n",
       "  </thead>\n",
       "  <tbody>\n",
       "    <tr>\n",
       "      <th>5</th>\n",
       "      <td>6</td>\n",
       "      <td>0*</td>\n",
       "      <td>0</td>\n",
       "      <td>8</td>\n",
       "      <td>0.00</td>\n",
       "      <td>0</td>\n",
       "      <td>0</td>\n",
       "      <td>v India</td>\n",
       "      <td>Dhaka</td>\n",
       "      <td>10 Jan 2010</td>\n",
       "      <td>ODI # 2941</td>\n",
       "      <td>Oshane Thomas</td>\n",
       "      <td>49619</td>\n",
       "    </tr>\n",
       "    <tr>\n",
       "      <th>6</th>\n",
       "      <td>7</td>\n",
       "      <td>0*</td>\n",
       "      <td>0</td>\n",
       "      <td>0</td>\n",
       "      <td>-</td>\n",
       "      <td>0</td>\n",
       "      <td>0</td>\n",
       "      <td>v England</td>\n",
       "      <td>The Oval</td>\n",
       "      <td>28 Jun 2011</td>\n",
       "      <td>ODI # 3165</td>\n",
       "      <td>Oshane Thomas</td>\n",
       "      <td>49619</td>\n",
       "    </tr>\n",
       "    <tr>\n",
       "      <th>9</th>\n",
       "      <td>10</td>\n",
       "      <td>1*</td>\n",
       "      <td>1</td>\n",
       "      <td>3</td>\n",
       "      <td>33.33</td>\n",
       "      <td>0</td>\n",
       "      <td>0</td>\n",
       "      <td>v England</td>\n",
       "      <td>Nottingham</td>\n",
       "      <td>6 Jul 2011</td>\n",
       "      <td>ODI # 3169</td>\n",
       "      <td>Oshane Thomas</td>\n",
       "      <td>49619</td>\n",
       "    </tr>\n",
       "    <tr>\n",
       "      <th>10</th>\n",
       "      <td>11</td>\n",
       "      <td>0*</td>\n",
       "      <td>0</td>\n",
       "      <td>2</td>\n",
       "      <td>0.00</td>\n",
       "      <td>0</td>\n",
       "      <td>0</td>\n",
       "      <td>v Australia</td>\n",
       "      <td>Pallekele</td>\n",
       "      <td>10 Aug 2011</td>\n",
       "      <td>ODI # 3175</td>\n",
       "      <td>Oshane Thomas</td>\n",
       "      <td>49619</td>\n",
       "    </tr>\n",
       "    <tr>\n",
       "      <th>11</th>\n",
       "      <td>12</td>\n",
       "      <td>0</td>\n",
       "      <td>0</td>\n",
       "      <td>2</td>\n",
       "      <td>0.00</td>\n",
       "      <td>0</td>\n",
       "      <td>0</td>\n",
       "      <td>v Pakistan</td>\n",
       "      <td>Dubai (DSC)</td>\n",
       "      <td>11 Nov 2011</td>\n",
       "      <td>ODI # 3212</td>\n",
       "      <td>Oshane Thomas</td>\n",
       "      <td>49619</td>\n",
       "    </tr>\n",
       "  </tbody>\n",
       "</table>\n",
       "</div>"
      ],
      "text/plain": [
       "    Unnamed: 0 Bat1 Runs BF     SR 4s 6s   Opposition       Ground  \\\n",
       "5            6   0*    0  8   0.00  0  0      v India        Dhaka   \n",
       "6            7   0*    0  0      -  0  0    v England     The Oval   \n",
       "9           10   1*    1  3  33.33  0  0    v England   Nottingham   \n",
       "10          11   0*    0  2   0.00  0  0  v Australia    Pallekele   \n",
       "11          12    0    0  2   0.00  0  0   v Pakistan  Dubai (DSC)   \n",
       "\n",
       "     Start Date    Match_ID        Batsman  Player_ID  \n",
       "5   10 Jan 2010  ODI # 2941  Oshane Thomas      49619  \n",
       "6   28 Jun 2011  ODI # 3165  Oshane Thomas      49619  \n",
       "9    6 Jul 2011  ODI # 3169  Oshane Thomas      49619  \n",
       "10  10 Aug 2011  ODI # 3175  Oshane Thomas      49619  \n",
       "11  11 Nov 2011  ODI # 3212  Oshane Thomas      49619  "
      ]
     },
     "execution_count": 19,
     "metadata": {},
     "output_type": "execute_result"
    }
   ],
   "source": [
    "df.head()"
   ]
  },
  {
   "cell_type": "code",
   "execution_count": 20,
   "id": "02eac685",
   "metadata": {},
   "outputs": [],
   "source": [
    "df['Bat1'] = df['Bat1'].str.replace('*', '.')\n",
    "df['Runs'] = df['Runs'].str.replace('-', '0')\n",
    "df['BF'] = df['BF'].str.replace('-', ' 0')\n",
    "df['SR'] = df['SR'].str.replace('-', '0')\n",
    "df['4s'] = df['4s'].str.replace('-', '0')\n",
    "df['6s'] = df['6s'].str.replace('-', '0')"
   ]
  },
  {
   "cell_type": "code",
   "execution_count": 21,
   "id": "1f5ab8d9",
   "metadata": {},
   "outputs": [
    {
     "data": {
      "text/html": [
       "<div>\n",
       "<style scoped>\n",
       "    .dataframe tbody tr th:only-of-type {\n",
       "        vertical-align: middle;\n",
       "    }\n",
       "\n",
       "    .dataframe tbody tr th {\n",
       "        vertical-align: top;\n",
       "    }\n",
       "\n",
       "    .dataframe thead th {\n",
       "        text-align: right;\n",
       "    }\n",
       "</style>\n",
       "<table border=\"1\" class=\"dataframe\">\n",
       "  <thead>\n",
       "    <tr style=\"text-align: right;\">\n",
       "      <th></th>\n",
       "      <th>Unnamed: 0</th>\n",
       "      <th>Bat1</th>\n",
       "      <th>Runs</th>\n",
       "      <th>BF</th>\n",
       "      <th>SR</th>\n",
       "      <th>4s</th>\n",
       "      <th>6s</th>\n",
       "      <th>Opposition</th>\n",
       "      <th>Ground</th>\n",
       "      <th>Start Date</th>\n",
       "      <th>Match_ID</th>\n",
       "      <th>Batsman</th>\n",
       "      <th>Player_ID</th>\n",
       "    </tr>\n",
       "  </thead>\n",
       "  <tbody>\n",
       "    <tr>\n",
       "      <th>5</th>\n",
       "      <td>6</td>\n",
       "      <td>0.</td>\n",
       "      <td>0</td>\n",
       "      <td>8</td>\n",
       "      <td>0.00</td>\n",
       "      <td>0</td>\n",
       "      <td>0</td>\n",
       "      <td>v India</td>\n",
       "      <td>Dhaka</td>\n",
       "      <td>10 Jan 2010</td>\n",
       "      <td>ODI # 2941</td>\n",
       "      <td>Oshane Thomas</td>\n",
       "      <td>49619</td>\n",
       "    </tr>\n",
       "    <tr>\n",
       "      <th>6</th>\n",
       "      <td>7</td>\n",
       "      <td>0.</td>\n",
       "      <td>0</td>\n",
       "      <td>0</td>\n",
       "      <td>0</td>\n",
       "      <td>0</td>\n",
       "      <td>0</td>\n",
       "      <td>v England</td>\n",
       "      <td>The Oval</td>\n",
       "      <td>28 Jun 2011</td>\n",
       "      <td>ODI # 3165</td>\n",
       "      <td>Oshane Thomas</td>\n",
       "      <td>49619</td>\n",
       "    </tr>\n",
       "    <tr>\n",
       "      <th>9</th>\n",
       "      <td>10</td>\n",
       "      <td>1.</td>\n",
       "      <td>1</td>\n",
       "      <td>3</td>\n",
       "      <td>33.33</td>\n",
       "      <td>0</td>\n",
       "      <td>0</td>\n",
       "      <td>v England</td>\n",
       "      <td>Nottingham</td>\n",
       "      <td>6 Jul 2011</td>\n",
       "      <td>ODI # 3169</td>\n",
       "      <td>Oshane Thomas</td>\n",
       "      <td>49619</td>\n",
       "    </tr>\n",
       "    <tr>\n",
       "      <th>10</th>\n",
       "      <td>11</td>\n",
       "      <td>0.</td>\n",
       "      <td>0</td>\n",
       "      <td>2</td>\n",
       "      <td>0.00</td>\n",
       "      <td>0</td>\n",
       "      <td>0</td>\n",
       "      <td>v Australia</td>\n",
       "      <td>Pallekele</td>\n",
       "      <td>10 Aug 2011</td>\n",
       "      <td>ODI # 3175</td>\n",
       "      <td>Oshane Thomas</td>\n",
       "      <td>49619</td>\n",
       "    </tr>\n",
       "    <tr>\n",
       "      <th>11</th>\n",
       "      <td>12</td>\n",
       "      <td>0</td>\n",
       "      <td>0</td>\n",
       "      <td>2</td>\n",
       "      <td>0.00</td>\n",
       "      <td>0</td>\n",
       "      <td>0</td>\n",
       "      <td>v Pakistan</td>\n",
       "      <td>Dubai (DSC)</td>\n",
       "      <td>11 Nov 2011</td>\n",
       "      <td>ODI # 3212</td>\n",
       "      <td>Oshane Thomas</td>\n",
       "      <td>49619</td>\n",
       "    </tr>\n",
       "  </tbody>\n",
       "</table>\n",
       "</div>"
      ],
      "text/plain": [
       "    Unnamed: 0 Bat1 Runs BF     SR 4s 6s   Opposition       Ground  \\\n",
       "5            6   0.    0  8   0.00  0  0      v India        Dhaka   \n",
       "6            7   0.    0  0      0  0  0    v England     The Oval   \n",
       "9           10   1.    1  3  33.33  0  0    v England   Nottingham   \n",
       "10          11   0.    0  2   0.00  0  0  v Australia    Pallekele   \n",
       "11          12    0    0  2   0.00  0  0   v Pakistan  Dubai (DSC)   \n",
       "\n",
       "     Start Date    Match_ID        Batsman  Player_ID  \n",
       "5   10 Jan 2010  ODI # 2941  Oshane Thomas      49619  \n",
       "6   28 Jun 2011  ODI # 3165  Oshane Thomas      49619  \n",
       "9    6 Jul 2011  ODI # 3169  Oshane Thomas      49619  \n",
       "10  10 Aug 2011  ODI # 3175  Oshane Thomas      49619  \n",
       "11  11 Nov 2011  ODI # 3212  Oshane Thomas      49619  "
      ]
     },
     "execution_count": 21,
     "metadata": {},
     "output_type": "execute_result"
    }
   ],
   "source": [
    "df.head()"
   ]
  },
  {
   "cell_type": "code",
   "execution_count": 22,
   "id": "1f984aa5",
   "metadata": {},
   "outputs": [],
   "source": [
    "df['Runs'] = df['Runs'].astype(float)\n",
    "df['BF'] = df['BF'].astype(float)\n",
    "df['SR'] = df['SR'].astype(float)\n",
    "df['4s'] = df['4s'].astype(float)\n",
    "df['6s'] = df['6s'].astype(float)"
   ]
  },
  {
   "cell_type": "code",
   "execution_count": 23,
   "id": "ebf86a77",
   "metadata": {},
   "outputs": [
    {
     "data": {
      "text/plain": [
       "Unnamed: 0      int64\n",
       "Bat1           object\n",
       "Runs          float64\n",
       "BF            float64\n",
       "SR            float64\n",
       "4s            float64\n",
       "6s            float64\n",
       "Opposition     object\n",
       "Ground         object\n",
       "Start Date     object\n",
       "Match_ID       object\n",
       "Batsman        object\n",
       "Player_ID       int64\n",
       "dtype: object"
      ]
     },
     "execution_count": 23,
     "metadata": {},
     "output_type": "execute_result"
    }
   ],
   "source": [
    "df.dtypes"
   ]
  },
  {
   "cell_type": "markdown",
   "id": "22850428",
   "metadata": {},
   "source": [
    "# Label Encoding:"
   ]
  },
  {
   "cell_type": "code",
   "execution_count": 24,
   "id": "71b96474",
   "metadata": {},
   "outputs": [],
   "source": [
    "from sklearn.preprocessing import LabelEncoder"
   ]
  },
  {
   "cell_type": "code",
   "execution_count": 25,
   "id": "80bd476f",
   "metadata": {},
   "outputs": [],
   "source": [
    "label = LabelEncoder()"
   ]
  },
  {
   "cell_type": "code",
   "execution_count": 26,
   "id": "efd0b986",
   "metadata": {},
   "outputs": [],
   "source": [
    "df['Opposition'] = label.fit_transform(df['Opposition'])\n",
    "df['Ground'] = label.fit_transform(df['Ground'])\n",
    "df['Start Date'] = label.fit_transform(df['Start Date'])\n",
    "df['Match_ID'] = label.fit_transform(df['Match_ID'])\n",
    "df['Batsman'] = label.fit_transform(df['Batsman'])"
   ]
  },
  {
   "cell_type": "code",
   "execution_count": 27,
   "id": "f1cfc9f7",
   "metadata": {},
   "outputs": [
    {
     "data": {
      "text/html": [
       "<div>\n",
       "<style scoped>\n",
       "    .dataframe tbody tr th:only-of-type {\n",
       "        vertical-align: middle;\n",
       "    }\n",
       "\n",
       "    .dataframe tbody tr th {\n",
       "        vertical-align: top;\n",
       "    }\n",
       "\n",
       "    .dataframe thead th {\n",
       "        text-align: right;\n",
       "    }\n",
       "</style>\n",
       "<table border=\"1\" class=\"dataframe\">\n",
       "  <thead>\n",
       "    <tr style=\"text-align: right;\">\n",
       "      <th></th>\n",
       "      <th>Unnamed: 0</th>\n",
       "      <th>Bat1</th>\n",
       "      <th>Runs</th>\n",
       "      <th>BF</th>\n",
       "      <th>SR</th>\n",
       "      <th>4s</th>\n",
       "      <th>6s</th>\n",
       "      <th>Opposition</th>\n",
       "      <th>Ground</th>\n",
       "      <th>Start Date</th>\n",
       "      <th>Match_ID</th>\n",
       "      <th>Batsman</th>\n",
       "      <th>Player_ID</th>\n",
       "    </tr>\n",
       "  </thead>\n",
       "  <tbody>\n",
       "    <tr>\n",
       "      <th>5</th>\n",
       "      <td>6</td>\n",
       "      <td>0.</td>\n",
       "      <td>0.0</td>\n",
       "      <td>8.0</td>\n",
       "      <td>0.00</td>\n",
       "      <td>0.0</td>\n",
       "      <td>0.0</td>\n",
       "      <td>9</td>\n",
       "      <td>38</td>\n",
       "      <td>68</td>\n",
       "      <td>718</td>\n",
       "      <td>112</td>\n",
       "      <td>49619</td>\n",
       "    </tr>\n",
       "    <tr>\n",
       "      <th>6</th>\n",
       "      <td>7</td>\n",
       "      <td>0.</td>\n",
       "      <td>0.0</td>\n",
       "      <td>0.0</td>\n",
       "      <td>0.00</td>\n",
       "      <td>0.0</td>\n",
       "      <td>0.0</td>\n",
       "      <td>7</td>\n",
       "      <td>125</td>\n",
       "      <td>1066</td>\n",
       "      <td>906</td>\n",
       "      <td>112</td>\n",
       "      <td>49619</td>\n",
       "    </tr>\n",
       "    <tr>\n",
       "      <th>9</th>\n",
       "      <td>10</td>\n",
       "      <td>1.</td>\n",
       "      <td>1.0</td>\n",
       "      <td>3.0</td>\n",
       "      <td>33.33</td>\n",
       "      <td>0.0</td>\n",
       "      <td>0.0</td>\n",
       "      <td>7</td>\n",
       "      <td>100</td>\n",
       "      <td>1392</td>\n",
       "      <td>909</td>\n",
       "      <td>112</td>\n",
       "      <td>49619</td>\n",
       "    </tr>\n",
       "    <tr>\n",
       "      <th>10</th>\n",
       "      <td>11</td>\n",
       "      <td>0.</td>\n",
       "      <td>0.0</td>\n",
       "      <td>2.0</td>\n",
       "      <td>0.00</td>\n",
       "      <td>0.0</td>\n",
       "      <td>0.0</td>\n",
       "      <td>3</td>\n",
       "      <td>102</td>\n",
       "      <td>52</td>\n",
       "      <td>914</td>\n",
       "      <td>112</td>\n",
       "      <td>49619</td>\n",
       "    </tr>\n",
       "    <tr>\n",
       "      <th>11</th>\n",
       "      <td>12</td>\n",
       "      <td>0</td>\n",
       "      <td>0.0</td>\n",
       "      <td>2.0</td>\n",
       "      <td>0.00</td>\n",
       "      <td>0.0</td>\n",
       "      <td>0.0</td>\n",
       "      <td>15</td>\n",
       "      <td>40</td>\n",
       "      <td>138</td>\n",
       "      <td>947</td>\n",
       "      <td>112</td>\n",
       "      <td>49619</td>\n",
       "    </tr>\n",
       "    <tr>\n",
       "      <th>...</th>\n",
       "      <td>...</td>\n",
       "      <td>...</td>\n",
       "      <td>...</td>\n",
       "      <td>...</td>\n",
       "      <td>...</td>\n",
       "      <td>...</td>\n",
       "      <td>...</td>\n",
       "      <td>...</td>\n",
       "      <td>...</td>\n",
       "      <td>...</td>\n",
       "      <td>...</td>\n",
       "      <td>...</td>\n",
       "      <td>...</td>\n",
       "    </tr>\n",
       "    <tr>\n",
       "      <th>11142</th>\n",
       "      <td>11143</td>\n",
       "      <td>0.</td>\n",
       "      <td>0.0</td>\n",
       "      <td>2.0</td>\n",
       "      <td>0.00</td>\n",
       "      <td>0.0</td>\n",
       "      <td>0.0</td>\n",
       "      <td>4</td>\n",
       "      <td>1</td>\n",
       "      <td>827</td>\n",
       "      <td>1695</td>\n",
       "      <td>41</td>\n",
       "      <td>352048</td>\n",
       "    </tr>\n",
       "    <tr>\n",
       "      <th>11143</th>\n",
       "      <td>11144</td>\n",
       "      <td>15</td>\n",
       "      <td>15.0</td>\n",
       "      <td>46.0</td>\n",
       "      <td>32.60</td>\n",
       "      <td>1.0</td>\n",
       "      <td>0.0</td>\n",
       "      <td>9</td>\n",
       "      <td>40</td>\n",
       "      <td>929</td>\n",
       "      <td>1696</td>\n",
       "      <td>41</td>\n",
       "      <td>352048</td>\n",
       "    </tr>\n",
       "    <tr>\n",
       "      <th>11144</th>\n",
       "      <td>11145</td>\n",
       "      <td>46</td>\n",
       "      <td>46.0</td>\n",
       "      <td>61.0</td>\n",
       "      <td>75.40</td>\n",
       "      <td>6.0</td>\n",
       "      <td>1.0</td>\n",
       "      <td>10</td>\n",
       "      <td>36</td>\n",
       "      <td>1048</td>\n",
       "      <td>1746</td>\n",
       "      <td>41</td>\n",
       "      <td>352048</td>\n",
       "    </tr>\n",
       "    <tr>\n",
       "      <th>11145</th>\n",
       "      <td>11146</td>\n",
       "      <td>3</td>\n",
       "      <td>3.0</td>\n",
       "      <td>6.0</td>\n",
       "      <td>50.00</td>\n",
       "      <td>0.0</td>\n",
       "      <td>0.0</td>\n",
       "      <td>10</td>\n",
       "      <td>36</td>\n",
       "      <td>604</td>\n",
       "      <td>1747</td>\n",
       "      <td>41</td>\n",
       "      <td>352048</td>\n",
       "    </tr>\n",
       "    <tr>\n",
       "      <th>11146</th>\n",
       "      <td>11147</td>\n",
       "      <td>1</td>\n",
       "      <td>1.0</td>\n",
       "      <td>8.0</td>\n",
       "      <td>12.50</td>\n",
       "      <td>0.0</td>\n",
       "      <td>0.0</td>\n",
       "      <td>10</td>\n",
       "      <td>36</td>\n",
       "      <td>1503</td>\n",
       "      <td>1754</td>\n",
       "      <td>41</td>\n",
       "      <td>352048</td>\n",
       "    </tr>\n",
       "  </tbody>\n",
       "</table>\n",
       "<p>8918 rows × 13 columns</p>\n",
       "</div>"
      ],
      "text/plain": [
       "       Unnamed: 0 Bat1  Runs    BF     SR   4s   6s  Opposition  Ground  \\\n",
       "5               6   0.   0.0   8.0   0.00  0.0  0.0           9      38   \n",
       "6               7   0.   0.0   0.0   0.00  0.0  0.0           7     125   \n",
       "9              10   1.   1.0   3.0  33.33  0.0  0.0           7     100   \n",
       "10             11   0.   0.0   2.0   0.00  0.0  0.0           3     102   \n",
       "11             12    0   0.0   2.0   0.00  0.0  0.0          15      40   \n",
       "...           ...  ...   ...   ...    ...  ...  ...         ...     ...   \n",
       "11142       11143   0.   0.0   2.0   0.00  0.0  0.0           4       1   \n",
       "11143       11144   15  15.0  46.0  32.60  1.0  0.0           9      40   \n",
       "11144       11145   46  46.0  61.0  75.40  6.0  1.0          10      36   \n",
       "11145       11146    3   3.0   6.0  50.00  0.0  0.0          10      36   \n",
       "11146       11147    1   1.0   8.0  12.50  0.0  0.0          10      36   \n",
       "\n",
       "       Start Date  Match_ID  Batsman  Player_ID  \n",
       "5              68       718      112      49619  \n",
       "6            1066       906      112      49619  \n",
       "9            1392       909      112      49619  \n",
       "10             52       914      112      49619  \n",
       "11            138       947      112      49619  \n",
       "...           ...       ...      ...        ...  \n",
       "11142         827      1695       41     352048  \n",
       "11143         929      1696       41     352048  \n",
       "11144        1048      1746       41     352048  \n",
       "11145         604      1747       41     352048  \n",
       "11146        1503      1754       41     352048  \n",
       "\n",
       "[8918 rows x 13 columns]"
      ]
     },
     "execution_count": 27,
     "metadata": {},
     "output_type": "execute_result"
    }
   ],
   "source": [
    "df"
   ]
  },
  {
   "cell_type": "code",
   "execution_count": 28,
   "id": "e6350d45",
   "metadata": {},
   "outputs": [
    {
     "data": {
      "text/html": [
       "<div>\n",
       "<style scoped>\n",
       "    .dataframe tbody tr th:only-of-type {\n",
       "        vertical-align: middle;\n",
       "    }\n",
       "\n",
       "    .dataframe tbody tr th {\n",
       "        vertical-align: top;\n",
       "    }\n",
       "\n",
       "    .dataframe thead th {\n",
       "        text-align: right;\n",
       "    }\n",
       "</style>\n",
       "<table border=\"1\" class=\"dataframe\">\n",
       "  <thead>\n",
       "    <tr style=\"text-align: right;\">\n",
       "      <th></th>\n",
       "      <th>Unnamed: 0</th>\n",
       "      <th>Bat1</th>\n",
       "      <th>Runs</th>\n",
       "      <th>BF</th>\n",
       "      <th>SR</th>\n",
       "      <th>4s</th>\n",
       "      <th>6s</th>\n",
       "      <th>Opposition</th>\n",
       "      <th>Ground</th>\n",
       "      <th>Start Date</th>\n",
       "      <th>Match_ID</th>\n",
       "      <th>Batsman</th>\n",
       "      <th>Player_ID</th>\n",
       "    </tr>\n",
       "  </thead>\n",
       "  <tbody>\n",
       "    <tr>\n",
       "      <th>Unnamed: 0</th>\n",
       "      <td>1.000000</td>\n",
       "      <td>0.019036</td>\n",
       "      <td>0.019036</td>\n",
       "      <td>0.024119</td>\n",
       "      <td>0.008995</td>\n",
       "      <td>0.020184</td>\n",
       "      <td>-0.004578</td>\n",
       "      <td>0.142381</td>\n",
       "      <td>-0.049110</td>\n",
       "      <td>-0.009664</td>\n",
       "      <td>0.097250</td>\n",
       "      <td>0.209071</td>\n",
       "      <td>0.018165</td>\n",
       "    </tr>\n",
       "    <tr>\n",
       "      <th>Bat1</th>\n",
       "      <td>0.019036</td>\n",
       "      <td>1.000000</td>\n",
       "      <td>1.000000</td>\n",
       "      <td>0.931729</td>\n",
       "      <td>0.362068</td>\n",
       "      <td>0.892554</td>\n",
       "      <td>0.628764</td>\n",
       "      <td>0.033629</td>\n",
       "      <td>0.013681</td>\n",
       "      <td>-0.003691</td>\n",
       "      <td>0.029822</td>\n",
       "      <td>0.024578</td>\n",
       "      <td>-0.088907</td>\n",
       "    </tr>\n",
       "    <tr>\n",
       "      <th>Runs</th>\n",
       "      <td>0.019036</td>\n",
       "      <td>1.000000</td>\n",
       "      <td>1.000000</td>\n",
       "      <td>0.931729</td>\n",
       "      <td>0.362068</td>\n",
       "      <td>0.892554</td>\n",
       "      <td>0.628764</td>\n",
       "      <td>0.033629</td>\n",
       "      <td>0.013681</td>\n",
       "      <td>-0.003691</td>\n",
       "      <td>0.029822</td>\n",
       "      <td>0.024578</td>\n",
       "      <td>-0.088907</td>\n",
       "    </tr>\n",
       "    <tr>\n",
       "      <th>BF</th>\n",
       "      <td>0.024119</td>\n",
       "      <td>0.931729</td>\n",
       "      <td>0.931729</td>\n",
       "      <td>1.000000</td>\n",
       "      <td>0.171519</td>\n",
       "      <td>0.797274</td>\n",
       "      <td>0.458867</td>\n",
       "      <td>0.033318</td>\n",
       "      <td>0.008504</td>\n",
       "      <td>-0.002371</td>\n",
       "      <td>-0.014462</td>\n",
       "      <td>0.042272</td>\n",
       "      <td>-0.112266</td>\n",
       "    </tr>\n",
       "    <tr>\n",
       "      <th>SR</th>\n",
       "      <td>0.008995</td>\n",
       "      <td>0.362068</td>\n",
       "      <td>0.362068</td>\n",
       "      <td>0.171519</td>\n",
       "      <td>1.000000</td>\n",
       "      <td>0.368566</td>\n",
       "      <td>0.389540</td>\n",
       "      <td>0.024980</td>\n",
       "      <td>0.011006</td>\n",
       "      <td>-0.004133</td>\n",
       "      <td>0.077703</td>\n",
       "      <td>-0.025706</td>\n",
       "      <td>0.020345</td>\n",
       "    </tr>\n",
       "    <tr>\n",
       "      <th>4s</th>\n",
       "      <td>0.020184</td>\n",
       "      <td>0.892554</td>\n",
       "      <td>0.892554</td>\n",
       "      <td>0.797274</td>\n",
       "      <td>0.368566</td>\n",
       "      <td>1.000000</td>\n",
       "      <td>0.437912</td>\n",
       "      <td>0.031422</td>\n",
       "      <td>0.022742</td>\n",
       "      <td>-0.006679</td>\n",
       "      <td>0.020744</td>\n",
       "      <td>0.021678</td>\n",
       "      <td>-0.080112</td>\n",
       "    </tr>\n",
       "    <tr>\n",
       "      <th>6s</th>\n",
       "      <td>-0.004578</td>\n",
       "      <td>0.628764</td>\n",
       "      <td>0.628764</td>\n",
       "      <td>0.458867</td>\n",
       "      <td>0.389540</td>\n",
       "      <td>0.437912</td>\n",
       "      <td>1.000000</td>\n",
       "      <td>0.014547</td>\n",
       "      <td>0.012355</td>\n",
       "      <td>0.010890</td>\n",
       "      <td>0.063815</td>\n",
       "      <td>-0.045450</td>\n",
       "      <td>-0.024252</td>\n",
       "    </tr>\n",
       "    <tr>\n",
       "      <th>Opposition</th>\n",
       "      <td>0.142381</td>\n",
       "      <td>0.033629</td>\n",
       "      <td>0.033629</td>\n",
       "      <td>0.033318</td>\n",
       "      <td>0.024980</td>\n",
       "      <td>0.031422</td>\n",
       "      <td>0.014547</td>\n",
       "      <td>1.000000</td>\n",
       "      <td>-0.038221</td>\n",
       "      <td>0.024096</td>\n",
       "      <td>-0.046512</td>\n",
       "      <td>0.064038</td>\n",
       "      <td>-0.038733</td>\n",
       "    </tr>\n",
       "    <tr>\n",
       "      <th>Ground</th>\n",
       "      <td>-0.049110</td>\n",
       "      <td>0.013681</td>\n",
       "      <td>0.013681</td>\n",
       "      <td>0.008504</td>\n",
       "      <td>0.011006</td>\n",
       "      <td>0.022742</td>\n",
       "      <td>0.012355</td>\n",
       "      <td>-0.038221</td>\n",
       "      <td>1.000000</td>\n",
       "      <td>0.043650</td>\n",
       "      <td>0.000808</td>\n",
       "      <td>-0.040756</td>\n",
       "      <td>-0.001828</td>\n",
       "    </tr>\n",
       "    <tr>\n",
       "      <th>Start Date</th>\n",
       "      <td>-0.009664</td>\n",
       "      <td>-0.003691</td>\n",
       "      <td>-0.003691</td>\n",
       "      <td>-0.002371</td>\n",
       "      <td>-0.004133</td>\n",
       "      <td>-0.006679</td>\n",
       "      <td>0.010890</td>\n",
       "      <td>0.024096</td>\n",
       "      <td>0.043650</td>\n",
       "      <td>1.000000</td>\n",
       "      <td>0.001152</td>\n",
       "      <td>0.001848</td>\n",
       "      <td>0.018398</td>\n",
       "    </tr>\n",
       "    <tr>\n",
       "      <th>Match_ID</th>\n",
       "      <td>0.097250</td>\n",
       "      <td>0.029822</td>\n",
       "      <td>0.029822</td>\n",
       "      <td>-0.014462</td>\n",
       "      <td>0.077703</td>\n",
       "      <td>0.020744</td>\n",
       "      <td>0.063815</td>\n",
       "      <td>-0.046512</td>\n",
       "      <td>0.000808</td>\n",
       "      <td>0.001152</td>\n",
       "      <td>1.000000</td>\n",
       "      <td>-0.072834</td>\n",
       "      <td>0.464583</td>\n",
       "    </tr>\n",
       "    <tr>\n",
       "      <th>Batsman</th>\n",
       "      <td>0.209071</td>\n",
       "      <td>0.024578</td>\n",
       "      <td>0.024578</td>\n",
       "      <td>0.042272</td>\n",
       "      <td>-0.025706</td>\n",
       "      <td>0.021678</td>\n",
       "      <td>-0.045450</td>\n",
       "      <td>0.064038</td>\n",
       "      <td>-0.040756</td>\n",
       "      <td>0.001848</td>\n",
       "      <td>-0.072834</td>\n",
       "      <td>1.000000</td>\n",
       "      <td>-0.038404</td>\n",
       "    </tr>\n",
       "    <tr>\n",
       "      <th>Player_ID</th>\n",
       "      <td>0.018165</td>\n",
       "      <td>-0.088907</td>\n",
       "      <td>-0.088907</td>\n",
       "      <td>-0.112266</td>\n",
       "      <td>0.020345</td>\n",
       "      <td>-0.080112</td>\n",
       "      <td>-0.024252</td>\n",
       "      <td>-0.038733</td>\n",
       "      <td>-0.001828</td>\n",
       "      <td>0.018398</td>\n",
       "      <td>0.464583</td>\n",
       "      <td>-0.038404</td>\n",
       "      <td>1.000000</td>\n",
       "    </tr>\n",
       "  </tbody>\n",
       "</table>\n",
       "</div>"
      ],
      "text/plain": [
       "            Unnamed: 0      Bat1      Runs        BF        SR        4s  \\\n",
       "Unnamed: 0    1.000000  0.019036  0.019036  0.024119  0.008995  0.020184   \n",
       "Bat1          0.019036  1.000000  1.000000  0.931729  0.362068  0.892554   \n",
       "Runs          0.019036  1.000000  1.000000  0.931729  0.362068  0.892554   \n",
       "BF            0.024119  0.931729  0.931729  1.000000  0.171519  0.797274   \n",
       "SR            0.008995  0.362068  0.362068  0.171519  1.000000  0.368566   \n",
       "4s            0.020184  0.892554  0.892554  0.797274  0.368566  1.000000   \n",
       "6s           -0.004578  0.628764  0.628764  0.458867  0.389540  0.437912   \n",
       "Opposition    0.142381  0.033629  0.033629  0.033318  0.024980  0.031422   \n",
       "Ground       -0.049110  0.013681  0.013681  0.008504  0.011006  0.022742   \n",
       "Start Date   -0.009664 -0.003691 -0.003691 -0.002371 -0.004133 -0.006679   \n",
       "Match_ID      0.097250  0.029822  0.029822 -0.014462  0.077703  0.020744   \n",
       "Batsman       0.209071  0.024578  0.024578  0.042272 -0.025706  0.021678   \n",
       "Player_ID     0.018165 -0.088907 -0.088907 -0.112266  0.020345 -0.080112   \n",
       "\n",
       "                  6s  Opposition    Ground  Start Date  Match_ID   Batsman  \\\n",
       "Unnamed: 0 -0.004578    0.142381 -0.049110   -0.009664  0.097250  0.209071   \n",
       "Bat1        0.628764    0.033629  0.013681   -0.003691  0.029822  0.024578   \n",
       "Runs        0.628764    0.033629  0.013681   -0.003691  0.029822  0.024578   \n",
       "BF          0.458867    0.033318  0.008504   -0.002371 -0.014462  0.042272   \n",
       "SR          0.389540    0.024980  0.011006   -0.004133  0.077703 -0.025706   \n",
       "4s          0.437912    0.031422  0.022742   -0.006679  0.020744  0.021678   \n",
       "6s          1.000000    0.014547  0.012355    0.010890  0.063815 -0.045450   \n",
       "Opposition  0.014547    1.000000 -0.038221    0.024096 -0.046512  0.064038   \n",
       "Ground      0.012355   -0.038221  1.000000    0.043650  0.000808 -0.040756   \n",
       "Start Date  0.010890    0.024096  0.043650    1.000000  0.001152  0.001848   \n",
       "Match_ID    0.063815   -0.046512  0.000808    0.001152  1.000000 -0.072834   \n",
       "Batsman    -0.045450    0.064038 -0.040756    0.001848 -0.072834  1.000000   \n",
       "Player_ID  -0.024252   -0.038733 -0.001828    0.018398  0.464583 -0.038404   \n",
       "\n",
       "            Player_ID  \n",
       "Unnamed: 0   0.018165  \n",
       "Bat1        -0.088907  \n",
       "Runs        -0.088907  \n",
       "BF          -0.112266  \n",
       "SR           0.020345  \n",
       "4s          -0.080112  \n",
       "6s          -0.024252  \n",
       "Opposition  -0.038733  \n",
       "Ground      -0.001828  \n",
       "Start Date   0.018398  \n",
       "Match_ID     0.464583  \n",
       "Batsman     -0.038404  \n",
       "Player_ID    1.000000  "
      ]
     },
     "execution_count": 28,
     "metadata": {},
     "output_type": "execute_result"
    }
   ],
   "source": [
    "df.corr()"
   ]
  },
  {
   "cell_type": "code",
   "execution_count": 29,
   "id": "b1cbd65d",
   "metadata": {},
   "outputs": [
    {
     "data": {
      "text/plain": [
       "<Axes: >"
      ]
     },
     "execution_count": 29,
     "metadata": {},
     "output_type": "execute_result"
    },
    {
     "data": {
      "image/png": "[encoded data removed]",
      "text/plain": [
       "<Figure size 1500x700 with 2 Axes>"
      ]
     },
     "metadata": {},
     "output_type": "display_data"
    }
   ],
   "source": [
    "plt.figure(figsize = (15,7))\n",
    "sns.heatmap(df.corr(), annot=True, cmap='Blues')"
   ]
  },
  {
   "cell_type": "markdown",
   "id": "291363a1",
   "metadata": {},
   "source": [
    "# Train and Test split:"
   ]
  },
  {
   "cell_type": "code",
   "execution_count": 30,
   "id": "809d6f6d",
   "metadata": {},
   "outputs": [],
   "source": [
    "X = df.drop(columns=['Runs'], axis=1)\n",
    "Y = df['Runs']"
   ]
  },
  {
   "cell_type": "code",
   "execution_count": 31,
   "id": "d880a919",
   "metadata": {},
   "outputs": [],
   "source": [
    "from sklearn.model_selection import train_test_split"
   ]
  },
  {
   "cell_type": "code",
   "execution_count": 32,
   "id": "603d6946",
   "metadata": {},
   "outputs": [],
   "source": [
    "X_train, X_test, Y_train, Y_test = train_test_split(X, Y, test_size=0.3, random_state=50)"
   ]
  },
  {
   "cell_type": "code",
   "execution_count": 33,
   "id": "bda07179",
   "metadata": {},
   "outputs": [
    {
     "data": {
      "text/plain": [
       "(6242, 12)"
      ]
     },
     "execution_count": 33,
     "metadata": {},
     "output_type": "execute_result"
    }
   ],
   "source": [
    "X_train.shape"
   ]
  },
  {
   "cell_type": "code",
   "execution_count": 34,
   "id": "6f528dd2",
   "metadata": {},
   "outputs": [
    {
     "data": {
      "text/plain": [
       "(6242,)"
      ]
     },
     "execution_count": 34,
     "metadata": {},
     "output_type": "execute_result"
    }
   ],
   "source": [
    "Y_train.shape"
   ]
  },
  {
   "cell_type": "code",
   "execution_count": 35,
   "id": "30577809",
   "metadata": {},
   "outputs": [
    {
     "data": {
      "text/plain": [
       "(2676, 12)"
      ]
     },
     "execution_count": 35,
     "metadata": {},
     "output_type": "execute_result"
    }
   ],
   "source": [
    "X_test.shape"
   ]
  },
  {
   "cell_type": "code",
   "execution_count": 36,
   "id": "e4c463db",
   "metadata": {},
   "outputs": [
    {
     "data": {
      "text/plain": [
       "(2676, 12)"
      ]
     },
     "execution_count": 36,
     "metadata": {},
     "output_type": "execute_result"
    }
   ],
   "source": [
    "X_test.shape"
   ]
  },
  {
   "cell_type": "markdown",
   "id": "eda9f5e5",
   "metadata": {},
   "source": [
    "# Model Training:"
   ]
  },
  {
   "cell_type": "code",
   "execution_count": 37,
   "id": "cd3cb36d",
   "metadata": {},
   "outputs": [],
   "source": [
    "from sklearn.ensemble import RandomForestClassifier"
   ]
  },
  {
   "cell_type": "code",
   "execution_count": 38,
   "id": "97d2fcaa",
   "metadata": {},
   "outputs": [],
   "source": [
    "model = RandomForestClassifier(n_estimators=100, random_state=0)"
   ]
  },
  {
   "cell_type": "code",
   "execution_count": 39,
   "id": "8d711455",
   "metadata": {},
   "outputs": [
    {
     "data": {
      "text/html": [
       "<style>#sk-container-id-1 {color: black;}#sk-container-id-1 pre{padding: 0;}#sk-container-id-1 div.sk-toggleable {background-color: white;}#sk-container-id-1 label.sk-toggleable__label {cursor: pointer;display: block;width: 100%;margin-bottom: 0;padding: 0.3em;box-sizing: border-box;text-align: center;}#sk-container-id-1 label.sk-toggleable__label-arrow:before {content: \"▸\";float: left;margin-right: 0.25em;color: #696969;}#sk-container-id-1 label.sk-toggleable__label-arrow:hover:before {color: black;}#sk-container-id-1 div.sk-estimator:hover label.sk-toggleable__label-arrow:before {color: black;}#sk-container-id-1 div.sk-toggleable__content {max-height: 0;max-width: 0;overflow: hidden;text-align: left;background-color: #f0f8ff;}#sk-container-id-1 div.sk-toggleable__content pre {margin: 0.2em;color: black;border-radius: 0.25em;background-color: #f0f8ff;}#sk-container-id-1 input.sk-toggleable__control:checked~div.sk-toggleable__content {max-height: 200px;max-width: 100%;overflow: auto;}#sk-container-id-1 input.sk-toggleable__control:checked~label.sk-toggleable__label-arrow:before {content: \"▾\";}#sk-container-id-1 div.sk-estimator input.sk-toggleable__control:checked~label.sk-toggleable__label {background-color: #d4ebff;}#sk-container-id-1 div.sk-label input.sk-toggleable__control:checked~label.sk-toggleable__label {background-color: #d4ebff;}#sk-container-id-1 input.sk-hidden--visually {border: 0;clip: rect(1px 1px 1px 1px);clip: rect(1px, 1px, 1px, 1px);height: 1px;margin: -1px;overflow: hidden;padding: 0;position: absolute;width: 1px;}#sk-container-id-1 div.sk-estimator {font-family: monospace;background-color: #f0f8ff;border: 1px dotted black;border-radius: 0.25em;box-sizing: border-box;margin-bottom: 0.5em;}#sk-container-id-1 div.sk-estimator:hover {background-color: #d4ebff;}#sk-container-id-1 div.sk-parallel-item::after {content: \"\";width: 100%;border-bottom: 1px solid gray;flex-grow: 1;}#sk-container-id-1 div.sk-label:hover label.sk-toggleable__label {background-color: #d4ebff;}#sk-container-id-1 div.sk-serial::before {content: \"\";position: absolute;border-left: 1px solid gray;box-sizing: border-box;top: 0;bottom: 0;left: 50%;z-index: 0;}#sk-container-id-1 div.sk-serial {display: flex;flex-direction: column;align-items: center;background-color: white;padding-right: 0.2em;padding-left: 0.2em;position: relative;}#sk-container-id-1 div.sk-item {position: relative;z-index: 1;}#sk-container-id-1 div.sk-parallel {display: flex;align-items: stretch;justify-content: center;background-color: white;position: relative;}#sk-container-id-1 div.sk-item::before, #sk-container-id-1 div.sk-parallel-item::before {content: \"\";position: absolute;border-left: 1px solid gray;box-sizing: border-box;top: 0;bottom: 0;left: 50%;z-index: -1;}#sk-container-id-1 div.sk-parallel-item {display: flex;flex-direction: column;z-index: 1;position: relative;background-color: white;}#sk-container-id-1 div.sk-parallel-item:first-child::after {align-self: flex-end;width: 50%;}#sk-container-id-1 div.sk-parallel-item:last-child::after {align-self: flex-start;width: 50%;}#sk-container-id-1 div.sk-parallel-item:only-child::after {width: 0;}#sk-container-id-1 div.sk-dashed-wrapped {border: 1px dashed gray;margin: 0 0.4em 0.5em 0.4em;box-sizing: border-box;padding-bottom: 0.4em;background-color: white;}#sk-container-id-1 div.sk-label label {font-family: monospace;font-weight: bold;display: inline-block;line-height: 1.2em;}#sk-container-id-1 div.sk-label-container {text-align: center;}#sk-container-id-1 div.sk-container {/* jupyter's `normalize.less` sets `[hidden] { display: none; }` but bootstrap.min.css set `[hidden] { display: none !important; }` so we also need the `!important` here to be able to override the default hidden behavior on the sphinx rendered scikit-learn.org. See: https://github.com/scikit-learn/scikit-learn/issues/21755 */display: inline-block !important;position: relative;}#sk-container-id-1 div.sk-text-repr-fallback {display: none;}</style><div id=\"sk-container-id-1\" class=\"sk-top-container\"><div class=\"sk-text-repr-fallback\"><pre>RandomForestClassifier(random_state=0)</pre><b>In a Jupyter environment, please rerun this cell to show the HTML representation or trust the notebook. <br />On GitHub, the HTML representation is unable to render, please try loading this page with nbviewer.org.</b></div><div class=\"sk-container\" hidden><div class=\"sk-item\"><div class=\"sk-estimator sk-toggleable\"><input class=\"sk-toggleable__control sk-hidden--visually\" id=\"sk-estimator-id-1\" type=\"checkbox\" checked><label for=\"sk-estimator-id-1\" class=\"sk-toggleable__label sk-toggleable__label-arrow\">RandomForestClassifier</label><div class=\"sk-toggleable__content\"><pre>RandomForestClassifier(random_state=0)</pre></div></div></div></div></div>"
      ],
      "text/plain": [
       "RandomForestClassifier(random_state=0)"
      ]
     },
     "execution_count": 39,
     "metadata": {},
     "output_type": "execute_result"
    }
   ],
   "source": [
    "model.fit(X_train, Y_train)"
   ]
  },
  {
   "cell_type": "markdown",
   "id": "3e463ed1",
   "metadata": {},
   "source": [
    "# Model Prediction:"
   ]
  },
  {
   "cell_type": "code",
   "execution_count": 40,
   "id": "fae9bd04",
   "metadata": {},
   "outputs": [],
   "source": [
    "yPred = model.predict(X_test)"
   ]
  },
  {
   "cell_type": "markdown",
   "id": "d9cf9251",
   "metadata": {},
   "source": [
    "# Model Evaluation:"
   ]
  },
  {
   "cell_type": "code",
   "execution_count": 41,
   "id": "f42cffbc",
   "metadata": {},
   "outputs": [],
   "source": [
    "from sklearn.metrics import accuracy_score"
   ]
  },
  {
   "cell_type": "code",
   "execution_count": 42,
   "id": "d53ef9e5",
   "metadata": {},
   "outputs": [
    {
     "name": "stdout",
     "output_type": "stream",
     "text": [
      "Model Accuracy : 0.7907\n"
     ]
    }
   ],
   "source": [
    "print('Model Accuracy : {0:0.4f}'.format(accuracy_score(Y_test, yPred)))"
   ]
  },
  {
   "cell_type": "code",
   "execution_count": 43,
   "id": "d314b806",
   "metadata": {},
   "outputs": [],
   "source": [
    "feature_scores = pd.Series(model.feature_importances_, index=X_train.columns).sort_values(ascending=False)"
   ]
  },
  {
   "cell_type": "code",
   "execution_count": 44,
   "id": "e765f569",
   "metadata": {},
   "outputs": [
    {
     "data": {
      "text/plain": [
       "Bat1          0.367934\n",
       "SR            0.128989\n",
       "BF            0.099109\n",
       "Start Date    0.055476\n",
       "Unnamed: 0    0.054142\n",
       "Match_ID      0.053625\n",
       "Ground        0.050194\n",
       "Player_ID     0.045734\n",
       "Batsman       0.044370\n",
       "4s            0.043849\n",
       "Opposition    0.039913\n",
       "6s            0.016666\n",
       "dtype: float64"
      ]
     },
     "execution_count": 44,
     "metadata": {},
     "output_type": "execute_result"
    }
   ],
   "source": [
    "feature_scores"
   ]
  },
  {
   "cell_type": "code",
   "execution_count": 45,
   "id": "37d65b63",
   "metadata": {},
   "outputs": [
    {
     "data": {
      "image/png": "[encoded data removed]",
      "text/plain": [
       "<Figure size 640x480 with 1 Axes>"
      ]
     },
     "metadata": {},
     "output_type": "display_data"
    }
   ],
   "source": [
    "sns.barplot(x=feature_scores, y=feature_scores.index)\n",
    "plt.title('IMPORTANT FEATURES')\n",
    "plt.xlabel('Feature Importance Score')\n",
    "plt.ylabel('Features')\n",
    "plt.show()"
   ]
  },
  {
   "cell_type": "code",
   "execution_count": null,
   "id": "d7d06875",
   "metadata": {},
   "outputs": [],
   "source": []
  }
 ],
 "metadata": {
  "kernelspec": {
   "display_name": "Python 3 (ipykernel)",
   "language": "python",
   "name": "python3"
  },
  "language_info": {
   "codemirror_mode": {
    "name": "ipython",
    "version": 3
   },
   "file_extension": ".py",
   "mimetype": "text/x-python",
   "name": "python",
   "nbconvert_exporter": "python",
   "pygments_lexer": "ipython3",
   "version": "3.11.4"
  }
 },
 "nbformat": 4,
 "nbformat_minor": 5
}
